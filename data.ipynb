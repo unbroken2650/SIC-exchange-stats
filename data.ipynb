{
 "cells": [
  {
   "cell_type": "code",
   "execution_count": 1,
   "metadata": {},
   "outputs": [],
   "source": [
    "import pandas as pd\n",
    "import matplotlib.pyplot as plt\n",
    "import seaborn as sns\n",
    "import re\n",
    "import warnings\n",
    "import glob\n",
    "\n",
    "warnings.filterwarnings(\"ignore\")"
   ]
  },
  {
   "cell_type": "code",
   "execution_count": 2,
   "metadata": {},
   "outputs": [],
   "source": [
    "def print_df(_df):\n",
    "    print(_df.columns.tolist())\n",
    "    first_row_values = _df.iloc[0].tolist()\n",
    "    print(first_row_values)"
   ]
  },
  {
   "cell_type": "code",
   "execution_count": 6,
   "metadata": {},
   "outputs": [],
   "source": [
    "file_paths = glob.glob('data/*.csv')\n",
    "\n",
    "\n",
    "first_df = pd.read_csv(file_paths[0])  \n",
    "other_dfs = [pd.read_csv(file_path, header=None) for file_path in file_paths[1:]]  \n",
    "\n",
    "\n",
    "for df in other_dfs:\n",
    "    df.columns = first_df.columns\n",
    "\n",
    "uni_list = pd.concat([first_df] + other_dfs, ignore_index=True)\n"
   ]
  },
  {
   "cell_type": "code",
   "execution_count": 7,
   "metadata": {},
   "outputs": [
    {
     "name": "stdout",
     "output_type": "stream",
     "text": [
      "['프로그램구분', '기관', '일련번호', '지역', '국가명', '대학명(국문)', '대학명(영문)', '최소 학점', '어학성적', '특이사항', '참고사항', '수학가능학과/영어강의목록 등', 'Factsheet 여부', '교환학생수기 여부', '유의사항', '웹사이트 ']\n",
      "['일반교환', '자매대학', 'E0008', '북미', '캐나다', '컨커디어대', 'Concordia University', '3.3', 'A-1', '* TOEIC/TOEFL ITP 제외\\n* TOEFL iBT 각 영역별 20 이상\\n※ English Literature 학과: \\n   TOEFL iBT 110 이상 \\n   Journalism and Communication\\n   Studies 학과:  TOEFL iBT 100 이상\\n* IELTS 각 영역 별 6.5 이상 필요\\n* 토플 홈에디션 인정', '* 위치: Montreal, Quebec, Canada\\n* 특징: Quebec 州 에 위치한 연구 중심 공립 대학 \\n          학생 수 약 47,000명, 등록금 약 CAD 12,000/학기\\n          캐나다 경영대학 순위 10위권 내 \\n          #601-800 THE World University Rankings 2020', '★ 수학가능학과: Arts&Science, Fine Arts, The John Molson School of Business, Gina Cody School of Engineering and Computer Science\\n* 첨부파일(Course List) 참조, 일부 수강제한있음\\n\\n★ 수강가능과목(2021): 국제팀 홈페이지_커뮤니티_자매대학소개_첨부 파일(Course List) 참조', 'Y(2020)\\n/ COURSE LIST(2021)', 'Y(2013-2019)', '★ 2학기만 파견 가능 ', 'https://www.concordia.ca/international/visiting-exchange/study-exchange.html']\n"
     ]
    }
   ],
   "source": [
    "print_df(uni_list)"
   ]
  },
  {
   "cell_type": "code",
   "execution_count": 8,
   "metadata": {},
   "outputs": [],
   "source": [
    "uni_list.dropna(axis=0, how='all', inplace=True)\n",
    "uni_list.dropna(axis=1, how='all', inplace=True)"
   ]
  },
  {
   "cell_type": "code",
   "execution_count": 9,
   "metadata": {},
   "outputs": [],
   "source": [
    "uni_list['프로그램구분'].replace('교환학생\\n +인턴십', '교환학생+인턴십', inplace=True)\n",
    "uni_list['프로그램구분'].replace('순수', '일반교환', inplace=True)\n",
    "uni_list['프로그램구분'].replace('방문', '방문교환', inplace=True)\n",
    "uni_list['프로그램구분'].replace('특별', '방문교환', inplace=True)"
   ]
  },
  {
   "cell_type": "code",
   "execution_count": null,
   "metadata": {},
   "outputs": [],
   "source": [
    "uni_count_result = uni_list.groupby(['파견학기', '모집차수'], as_index=False).count()[['파견학기', '모집차수', '일련번호']]\n",
    "uni_count_result = uni_count_result.rename(columns={'일련번호': '파견가능 학교'})"
   ]
  },
  {
   "cell_type": "code",
   "execution_count": null,
   "metadata": {},
   "outputs": [],
   "source": [
    "print_df(uni_list)"
   ]
  },
  {
   "cell_type": "code",
   "execution_count": null,
   "metadata": {},
   "outputs": [],
   "source": [
    "uni_count_viz = uni_list.groupby(['파견학기', '모집차수'], as_index=False).count()[['파견학기', '모집차수', '일련번호']]\n",
    "sns.barplot(x='파견학기', y='일련번호', hue='모집차수', data=uni_count_viz)\n",
    "plt.title('파견가능 학교 수')\n",
    "plt.ylabel('count')\n",
    "plt.ylim(0, 500)"
   ]
  },
  {
   "cell_type": "code",
   "execution_count": null,
   "metadata": {},
   "outputs": [],
   "source": [
    "uni_count_viz = uni_list[uni_list['프로그램구분'] == '일반교환'].groupby(['파견학기', '모집차수'], as_index=False).count()[['파견학기', '모집차수', '일련번호']]\n",
    "sns.barplot(x='파견학기', y='일련번호', hue='모집차수', data=uni_count_viz)\n",
    "plt.title('일반교환 파견가능 학교 수')\n",
    "plt.ylabel('count')\n",
    "plt.ylim(0, 400)"
   ]
  },
  {
   "cell_type": "code",
   "execution_count": null,
   "metadata": {},
   "outputs": [],
   "source": [
    "sem_list = uni_list['파견학기'].unique()\n",
    "normal_uni_list = uni_list[uni_list['프로그램구분'] == '일반교환']\n",
    "pop_uni_list = normal_uni_list.iloc[:0].copy()\n",
    "for s in sem_list:\n",
    "    pop_uni_list = pd.concat([pop_uni_list, normal_uni_list[normal_uni_list['파견학기'] == s][normal_uni_list['모집차수'] == '1차'][~normal_uni_list['대학명(국문)'].isin(normal_uni_list[normal_uni_list['파견학기'] == s][normal_uni_list['모집차수'] == '2차']['대학명(국문)'].unique())]])\n",
    "\n",
    "pop_uni_list = pop_uni_list[['국가명', '대학명(국문)', '대학명(영문)']]\n",
    "pop_uni_list.drop_duplicates(subset=['대학명(국문)'], inplace=True)\n",
    "pop_uni_list.sort_values(by=['국가명', '대학명(국문)'], inplace=True)"
   ]
  },
  {
   "cell_type": "code",
   "execution_count": null,
   "metadata": {},
   "outputs": [],
   "source": [
    "result_list.dropna(axis=0, how='all', inplace=True)\n",
    "result_list.dropna(axis=1, how='all', inplace=True)"
   ]
  },
  {
   "cell_type": "code",
   "execution_count": null,
   "metadata": {},
   "outputs": [],
   "source": [
    "result = result_list.groupby(['파견학기', '모집차수'], as_index=False).count()[['파견학기', '모집차수', '대학']]\n",
    "result = result.rename(columns={'대학': '에비합격자'})\n",
    "target_sheet = doc.worksheet('학기 당 파견자')\n",
    "set_with_dataframe(target_sheet, result)"
   ]
  },
  {
   "cell_type": "code",
   "execution_count": null,
   "metadata": {},
   "outputs": [],
   "source": [
    "sns.barplot(x='파견학기', y='에비합격자', hue='모집차수', data=result)\n",
    "plt.title('학기별 합격자 수')\n",
    "plt.ylabel('count')"
   ]
  },
  {
   "cell_type": "code",
   "execution_count": null,
   "metadata": {},
   "outputs": [],
   "source": [
    "scholarship_list = result_list[~result_list['장학'].isna()][['파견학기', '모집차수', '국가', '대학', '장학']]\n",
    "target_sheet = doc.worksheet('장학')\n",
    "set_with_dataframe(target_sheet, scholarship_list)"
   ]
  },
  {
   "cell_type": "code",
   "execution_count": null,
   "metadata": {},
   "outputs": [],
   "source": []
  }
 ],
 "metadata": {
  "kernelspec": {
   "display_name": "Python 3",
   "language": "python",
   "name": "python3"
  },
  "language_info": {
   "codemirror_mode": {
    "name": "ipython",
    "version": 3
   },
   "file_extension": ".py",
   "mimetype": "text/x-python",
   "name": "python",
   "nbconvert_exporter": "python",
   "pygments_lexer": "ipython3",
   "version": "3.10.14"
  }
 },
 "nbformat": 4,
 "nbformat_minor": 2
}
